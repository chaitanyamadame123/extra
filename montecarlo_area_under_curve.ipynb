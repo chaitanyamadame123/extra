{
 "cells": [
  {
   "cell_type": "code",
   "execution_count": 45,
   "metadata": {},
   "outputs": [
    {
     "data": {
      "text/plain": [
       "318.21372813533804"
      ]
     },
     "execution_count": 45,
     "metadata": {},
     "output_type": "execute_result"
    }
   ],
   "source": [
    "import numpy as np\n",
    "#function\n",
    "def f(x) :\n",
    "    return x*x*x+6*x-x+17\n",
    "\n",
    "#random points\n",
    "rn=np.random.uniform(-2,5,1000)\n",
    "#points on curve\n",
    "xi=[]\n",
    "for i in rn :\n",
    "    xi.append(f(i))\n",
    "    \n",
    "#area of each rectangle \n",
    "Area=[]\n",
    "for h in xi :\n",
    "    Area.append(abs(h)*7)\n",
    "    \n",
    "#avg of all rectangle area\n",
    "\n",
    "np.mean(Area)"
   ]
  }
 ],
 "metadata": {
  "kernelspec": {
   "display_name": "Python 3",
   "language": "python",
   "name": "python3"
  },
  "language_info": {
   "codemirror_mode": {
    "name": "ipython",
    "version": 3
   },
   "file_extension": ".py",
   "mimetype": "text/x-python",
   "name": "python",
   "nbconvert_exporter": "python",
   "pygments_lexer": "ipython3",
   "version": "3.10.6"
  },
  "orig_nbformat": 4
 },
 "nbformat": 4,
 "nbformat_minor": 2
}
