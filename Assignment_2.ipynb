{
 "cells": [
  {
   "cell_type": "code",
   "execution_count": 1,
   "metadata": {},
   "outputs": [
    {
     "name": "stdout",
     "output_type": "stream",
     "text": [
      "Root: 1.0001845947743317\n"
     ]
    }
   ],
   "source": [
    "def fixed_point_iteration(g, initial_guess, tolerance=0.0001, max_iterations=100):\n",
    "    \n",
    "    guess = initial_guess\n",
    "    iteration = 0\n",
    "    while True:\n",
    "        next_guess = g(guess)\n",
    "        error = abs(next_guess - guess)\n",
    "        guess = next_guess\n",
    "        iteration += 1\n",
    "        if error < tolerance or iteration >= max_iterations:\n",
    "            break\n",
    "    return guess\n",
    "\n",
    "# Example usage:\n",
    "# Equation: x^2 - 3x + 2 = 0\n",
    "# Rewrite equation in the form x = g(x)\n",
    "# g(x) = (x^2 + 2) / 3\n",
    "\n",
    "def g(x):\n",
    "    return (x**2 + 2) / 3\n",
    "\n",
    "root = fixed_point_iteration(g, initial_guess=1.5)\n",
    "print(\"Root:\", root)"
   ]
  }
 ],
 "metadata": {
  "kernelspec": {
   "display_name": "Python 3",
   "language": "python",
   "name": "python3"
  },
  "language_info": {
   "codemirror_mode": {
    "name": "ipython",
    "version": 3
   },
   "file_extension": ".py",
   "mimetype": "text/x-python",
   "name": "python",
   "nbconvert_exporter": "python",
   "pygments_lexer": "ipython3",
   "version": "3.10.6"
  },
  "orig_nbformat": 4
 },
 "nbformat": 4,
 "nbformat_minor": 2
}
