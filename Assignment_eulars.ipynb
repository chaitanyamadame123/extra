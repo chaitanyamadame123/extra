{
 "cells": [
  {
   "cell_type": "code",
   "execution_count": 1,
   "metadata": {},
   "outputs": [
    {
     "name": "stdout",
     "output_type": "stream",
     "text": [
      "y(0.12) = 1.1261988901273856\n"
     ]
    }
   ],
   "source": [
    "def function(x, y):\n",
    "    return x**3 + y\n",
    "\n",
    "def euler_method(x0, y0, h, target_x):\n",
    "    x_values = [x0]\n",
    "    y_values = [y0]\n",
    "    \n",
    "    while x_values[-1] < target_x:\n",
    "        x = x_values[-1]\n",
    "        y = y_values[-1]\n",
    "        y_next = y + h * function(x, y)\n",
    "        x_values.append(x + h)\n",
    "        y_values.append(y_next)\n",
    "    \n",
    "    return x_values, y_values\n",
    "\n",
    "x0 = 0\n",
    "y0 = 1\n",
    "h = 0.02\n",
    "target_x = 0.12\n",
    "\n",
    "x_values, y_values = euler_method(x0, y0, h, target_x)\n",
    "\n",
    "index = int(target_x / h)  # Find the index corresponding to the target_x value\n",
    "y_target = y_values[index]\n",
    "\n",
    "print(\"y(0.12) =\", y_target)"
   ]
  }
 ],
 "metadata": {
  "kernelspec": {
   "display_name": "Python 3",
   "language": "python",
   "name": "python3"
  },
  "language_info": {
   "codemirror_mode": {
    "name": "ipython",
    "version": 3
   },
   "file_extension": ".py",
   "mimetype": "text/x-python",
   "name": "python",
   "nbconvert_exporter": "python",
   "pygments_lexer": "ipython3",
   "version": "3.10.6"
  },
  "orig_nbformat": 4
 },
 "nbformat": 4,
 "nbformat_minor": 2
}
