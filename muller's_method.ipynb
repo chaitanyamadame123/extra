{
 "cells": [
  {
   "cell_type": "code",
   "execution_count": 1,
   "metadata": {},
   "outputs": [],
   "source": [
    "## Muller Method ###\n",
    "# Python3 Program to find root of\n",
    "# a function, f(x)\n",
    "import math;\n",
    "MAX_ITERATIONS = 10000;"
   ]
  },
  {
   "cell_type": "code",
   "execution_count": 2,
   "metadata": {},
   "outputs": [],
   "source": [
    "# Function to calculate f(x)\n",
    "def f(x):\n",
    "    # Taking f(x) = x ^ 3 + 2x ^ 2 + 10x - 20\n",
    "    return (1 * pow(x, 3) + 2 * x * x + 10 * x - 20);"
   ]
  },
  {
   "cell_type": "code",
   "execution_count": 3,
   "metadata": {},
   "outputs": [
    {
     "name": "stdout",
     "output_type": "stream",
     "text": [
      "The value of the root is 1.3688\n"
     ]
    }
   ],
   "source": [
    "def Muller(a, b, c):   #x0, x1, x2\n",
    "    res = 0;\n",
    "    i = 0;\n",
    "    while (True):\n",
    "        # Calculating various constants\n",
    "        # required to calculate x3\n",
    "        f1 = f(a); f2 = f(b); f3 = f(c);\n",
    "        d1 = f1 - f3;\n",
    "        d2 = f2 - f3;\n",
    "        h1 = a - c;\n",
    "        h2 = b - c;\n",
    "        a0 = f3;            # c\n",
    "        a1 = (((d2 * pow(h1, 2)) -    # b\n",
    "               (d1 * pow(h2, 2))) /\n",
    "              ((h1 * h2) * (h1 - h2)));\n",
    "        a2 = (((d1 * h2) - (d2 * h1)) /   #a\n",
    "              ((h1 * h2) * (h1 - h2)));\n",
    "        x = ((-2 * a0) / (a1 +\n",
    "             abs(math.sqrt(a1 * a1 - 4 * a0 * a2))));\n",
    "        y = ((-2 * a0) / (a1 -\n",
    "            abs(math.sqrt(a1 * a1 - 4 * a0 * a2))));\n",
    "        # Taking the root which is\n",
    "        # closer to x2\n",
    "        if (x >= y):\n",
    "            res = x + c;\n",
    "        else:\n",
    "            res = y + c;\n",
    " \n",
    "        # checking for resemblance of x3\n",
    "        # with x2 till two decimal places\n",
    "        m = res * 100;\n",
    "        n = c * 100;\n",
    "        m = math.floor(m);\n",
    "        n = math.floor(n);\n",
    "        if (m == n):\n",
    "            break;\n",
    "        a = b;\n",
    "        b = c;\n",
    "        c = res;\n",
    "        if (i > MAX_ITERATIONS):\n",
    "            print(\"Root cannot be found using\",\n",
    "                            \"Muller's method\");\n",
    "            break;\n",
    "        i += 1;\n",
    "    if (i <= MAX_ITERATIONS):\n",
    "        print(\"The value of the root is\",\n",
    "                          round(res, 4));\n",
    "# Driver Code\n",
    "x0 = 0;\n",
    "x1 = 1;\n",
    "x2 = 2;\n",
    "Muller(x0, x1, x2);\n",
    "# This code is contributed by mits"
   ]
  }
 ],
 "metadata": {
  "kernelspec": {
   "display_name": "Python 3",
   "language": "python",
   "name": "python3"
  },
  "language_info": {
   "codemirror_mode": {
    "name": "ipython",
    "version": 3
   },
   "file_extension": ".py",
   "mimetype": "text/x-python",
   "name": "python",
   "nbconvert_exporter": "python",
   "pygments_lexer": "ipython3",
   "version": "3.10.6"
  },
  "orig_nbformat": 4
 },
 "nbformat": 4,
 "nbformat_minor": 2
}
